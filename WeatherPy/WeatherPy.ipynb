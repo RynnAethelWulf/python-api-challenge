{
 "cells": [
  {
   "cell_type": "markdown",
   "metadata": {},
   "source": [
    "# WeatherPy\n",
    "----\n",
    "\n",
    "#### Note\n",
    "* Instructions have been included for each segment. You do not have to follow them exactly, but they are included to help you think through the steps."
   ]
  },
  {
   "cell_type": "code",
   "execution_count": null,
   "metadata": {
    "ExecuteTime": {
     "end_time": "2020-10-11T18:27:22.984595Z",
     "start_time": "2020-10-11T18:27:18.536474Z"
    },
    "scrolled": true
   },
   "outputs": [],
   "source": [
    "import concurrent.futures \n",
    "import requests\n",
    "from pprint import pprint\n",
    "import json\n",
    "import os\n",
    "from citipy import citipy\n",
    "import random\n",
    "import numpy\n",
    "import pandas as pd\n",
    "import matplotlib.pyplot as plt\n",
    "import time\n",
    "\n",
    "\n",
    "plt.style.use('seaborn-poster')\n",
    "API_KEY = '726f6729b1b0ce3ac75298331adb8ac7'\n",
    "URL = \"https://api.openweathermap.org/data/2.5/weather?\"\n",
    "CITIES_TOT = 1500\n",
    "SETS_NUM = 120\n",
    "API_KEY = '726f6729b1b0ce3ac75298331adb8ac7'\n",
    "URL = \"https://api.openweathermap.org/data/2.5/weather?\"\n"
   ]
  },
  {
   "cell_type": "code",
   "execution_count": null,
   "metadata": {
    "ExecuteTime": {
     "end_time": "2020-10-11T18:27:23.205569Z",
     "start_time": "2020-10-11T18:27:22.991521Z"
    },
    "scrolled": true
   },
   "outputs": [],
   "source": [
    "random.seed(42)\n",
    "ran_lat= [random.uniform(-90,90) for _ in range(CITIES_TOT)]\n",
    "ran_long = [random.uniform(-180,180) for _ in range(CITIES_TOT)]\n",
    "dd = list(zip(ran_lat,ran_long))\n",
    "dd"
   ]
  },
  {
   "cell_type": "markdown",
   "metadata": {},
   "source": [
    "## Generate Cities List"
   ]
  },
  {
   "cell_type": "code",
   "execution_count": null,
   "metadata": {
    "ExecuteTime": {
     "end_time": "2020-10-11T18:27:25.709202Z",
     "start_time": "2020-10-11T18:27:23.213572Z"
    },
    "scrolled": true
   },
   "outputs": [],
   "source": [
    "cities = []\n",
    "def generate_cities(lat):\n",
    "    for rows in lat:\n",
    "        city = citipy.nearest_city(rows[0],rows[1])\n",
    "        cities.append(city.city_name)\n",
    "\n",
    "generate_cities(dd)\n",
    "\n",
    "final_cities = list(set(cities))\n",
    "final_cities_clean = [final_cities[i:i+SETS_NUM] for i in range(0, len(final_cities), SETS_NUM)]\n",
    "len(final_cities_clean)"
   ]
  },
  {
   "cell_type": "markdown",
   "metadata": {},
   "source": [
    "### Perform API Calls\n",
    "* Perform a weather check on each city using a series of successive API calls.\n",
    "* Include a print log of each city as it'sbeing processed (with the city number and city name).\n"
   ]
  },
  {
   "cell_type": "code",
   "execution_count": null,
   "metadata": {
    "ExecuteTime": {
     "end_time": "2020-10-11T18:27:42.598313Z",
     "start_time": "2020-10-11T18:27:25.714204Z"
    },
    "scrolled": true
   },
   "outputs": [],
   "source": [
    "start = time.perf_counter()\n",
    "json_data = []\n",
    "print(\"\"\"Beginning Data Retrieval     \n",
    "---------------------------------------\"\"\")\n",
    "def get_weather_data(cities):\n",
    "    set_num = 1\n",
    "    for enum,city in enumerate(cities,start=1):  \n",
    "        parameters = {\n",
    "            'q' : city,\n",
    "            'appid' : API_KEY,\n",
    "            'units':'metric'\n",
    "\n",
    "        }\n",
    "        try:           \n",
    "            data_request = requests.get(URL,params =parameters ).json()\n",
    "            print(f\"Processing Record {enum} | {data_request['name']}\")            \n",
    "        except:\n",
    "            print(\"City not found. Skipping...\")\n",
    "        finally:\n",
    "            json_data.append(data_request)\n",
    "#     set_num = set_num+1\n",
    "    \n",
    "    \n",
    "for n in range(len(final_cities)):\n",
    "    with concurrent.futures.ThreadPoolExecutor() as executor:\n",
    "            executor.submit(get_weather_data, final_cities_clean[n])\n",
    "            time.sleep(0.25)\n",
    "#             get_weather_data(final_cities[n],n+1)\n",
    "#             time.sleep(1)\n",
    " \n",
    "print(\"\"\"-----------------------------\n",
    "Data Retrieval Complete      \n",
    "-----------------------------\"\"\")\n",
    "\n",
    "finish = time.perf_counter()\n",
    "print(f'Finished in {round(finish-start, 2)} second(s)')"
   ]
  },
  {
   "cell_type": "markdown",
   "metadata": {},
   "source": [
    "### Convert Raw Data to DataFrame\n",
    "* Export the city data into a .csv.\n",
    "* Display the DataFrame"
   ]
  },
  {
   "cell_type": "code",
   "execution_count": null,
   "metadata": {
    "ExecuteTime": {
     "end_time": "2020-10-11T18:27:42.622318Z",
     "start_time": "2020-10-11T18:27:18.584Z"
    },
    "scrolled": true
   },
   "outputs": [],
   "source": [
    "city_name = []\n",
    "latitude = []\n",
    "longitude =  []\n",
    "max_temp = []\n",
    "humidity = []\n",
    "cloudiness = []\n",
    "wind_speed = []\n",
    "country = []\n",
    "date = []\n",
    "for data in json_data:\n",
    "    try:\n",
    "        city_name.append(data['name'])\n",
    "        latitude.append(data['coord']['lat'])\n",
    "        longitude.append(data['coord']['lon'])\n",
    "        max_temp.append(data['main']['temp_max'])\n",
    "        humidity.append(data['main']['humidity'])\n",
    "        cloudiness.append(data['clouds']['all'])\n",
    "        wind_speed.append(data['wind']['speed'])\n",
    "        country.append(data['sys']['country'])\n",
    "        date.append(data['dt'])\n",
    "    except:\n",
    "        pass\n",
    "    \n",
    "\n",
    "    \n",
    "df = pd.DataFrame({\n",
    "    'City':city_name,\n",
    "    'Lat':latitude,\n",
    "    'Lng':longitude,\n",
    "    'Max Temp':max_temp,\n",
    "    'Humidity':humidity,\n",
    "    'Cloudiness':cloudiness,\n",
    "    'Wind Speed':wind_speed,\n",
    "    'Country':country,\n",
    "    'Date':date\n",
    "})\n",
    "\n",
    "\n",
    "\n",
    "df.sort_values(by = 'City',ascending = True,inplace = True)\n",
    "df.drop_duplicates(inplace=True)\n",
    "df.reset_index(drop = True,inplace = True)\n",
    "df\n",
    "\n",
    "#Exporting to CSV\n",
    "\n",
    "df.to_csv(\"../output_data/weather.csv\",encoding='utf-8')"
   ]
  },
  {
   "cell_type": "code",
   "execution_count": null,
   "metadata": {
    "ExecuteTime": {
     "end_time": "2020-10-11T18:27:42.626320Z",
     "start_time": "2020-10-11T18:27:18.600Z"
    },
    "scrolled": true
   },
   "outputs": [],
   "source": [
    "df.describe()"
   ]
  },
  {
   "cell_type": "markdown",
   "metadata": {},
   "source": [
    "## Inspect the data and remove the cities where the humidity > 100%.\n",
    "----\n",
    "Skip this step if there are no cities that have humidity > 100%. "
   ]
  },
  {
   "cell_type": "code",
   "execution_count": null,
   "metadata": {
    "ExecuteTime": {
     "end_time": "2020-10-11T18:27:42.629324Z",
     "start_time": "2020-10-11T18:27:18.610Z"
    }
   },
   "outputs": [],
   "source": [
    "#  Get the indices of cities that have humidity over 100%.\n",
    "df_copy = df.copy()\n",
    "df_humidity_100 = df_copy.loc[df['Humidity']>=100]\n",
    "df_humidity_100.index"
   ]
  },
  {
   "cell_type": "code",
   "execution_count": null,
   "metadata": {
    "ExecuteTime": {
     "end_time": "2020-10-11T18:27:42.633323Z",
     "start_time": "2020-10-11T18:27:18.619Z"
    },
    "scrolled": true
   },
   "outputs": [],
   "source": [
    "# Make a new DataFrame equal to the city data to drop all humidity outliers by index.\n",
    "# Passing \"inplace=False\" will make a copy of the city_data DataFrame, which we call \"clean_city_data\".\n",
    "clean_city_data = df_copy.drop(axis=0, index=df_humidity_100.index,inplace=False)\n",
    "clean_city_data.reset_index(drop = True,inplace = True)\n",
    "clean_city_data"
   ]
  },
  {
   "cell_type": "code",
   "execution_count": null,
   "metadata": {
    "ExecuteTime": {
     "end_time": "2020-10-11T18:27:42.638322Z",
     "start_time": "2020-10-11T18:27:18.627Z"
    },
    "scrolled": true
   },
   "outputs": [],
   "source": [
    "clean_city_data['City'].value_counts()"
   ]
  },
  {
   "cell_type": "markdown",
   "metadata": {},
   "source": [
    "## Plotting the Data\n",
    "* Use proper labeling of the plots using plot titles (including date of analysis) and axes labels.\n",
    "* Save the plotted figures as .pngs."
   ]
  },
  {
   "cell_type": "markdown",
   "metadata": {},
   "source": [
    "## Latitude vs. Temperature Plot"
   ]
  },
  {
   "cell_type": "code",
   "execution_count": null,
   "metadata": {
    "ExecuteTime": {
     "end_time": "2020-10-11T18:27:42.642324Z",
     "start_time": "2020-10-11T18:27:18.635Z"
    },
    "scrolled": true
   },
   "outputs": [],
   "source": [
    "clean_city_data.plot(kind='scatter',x = 'Lat',y ='Max Temp' )\n",
    "plt.show()"
   ]
  },
  {
   "cell_type": "markdown",
   "metadata": {},
   "source": [
    "## Latitude vs. Humidity Plot"
   ]
  },
  {
   "cell_type": "code",
   "execution_count": null,
   "metadata": {
    "ExecuteTime": {
     "end_time": "2020-10-11T18:27:42.662329Z",
     "start_time": "2020-10-11T18:27:18.642Z"
    }
   },
   "outputs": [],
   "source": [
    "clean_city_data.plot(kind='scatter',x = 'Lat',y ='Humidity' )\n",
    "plt.show()"
   ]
  },
  {
   "cell_type": "markdown",
   "metadata": {},
   "source": [
    "## Latitude vs. Cloudiness Plot"
   ]
  },
  {
   "cell_type": "code",
   "execution_count": null,
   "metadata": {
    "ExecuteTime": {
     "end_time": "2020-10-11T18:27:42.665330Z",
     "start_time": "2020-10-11T18:27:18.650Z"
    }
   },
   "outputs": [],
   "source": [
    "clean_city_data.plot(kind='scatter',x = 'Lat',y ='Cloudiness' )\n",
    "plt.show()"
   ]
  },
  {
   "cell_type": "markdown",
   "metadata": {},
   "source": [
    "## Latitude vs. Wind Speed Plot"
   ]
  },
  {
   "cell_type": "code",
   "execution_count": null,
   "metadata": {
    "ExecuteTime": {
     "end_time": "2020-10-11T18:27:42.668331Z",
     "start_time": "2020-10-11T18:27:18.659Z"
    }
   },
   "outputs": [],
   "source": [
    "clean_city_data.plot(kind='scatter',x = 'Lat',y ='Wind Speed' )\n",
    "plt.show()"
   ]
  },
  {
   "cell_type": "markdown",
   "metadata": {},
   "source": [
    "## Linear Regression"
   ]
  },
  {
   "cell_type": "code",
   "execution_count": null,
   "metadata": {
    "ExecuteTime": {
     "end_time": "2020-10-11T18:27:42.671333Z",
     "start_time": "2020-10-11T18:27:18.669Z"
    }
   },
   "outputs": [],
   "source": [
    "north_hem = clean_city_data.copy()\n",
    "north_hem = north_hem.loc[north_hem['Lng'] > 0]"
   ]
  },
  {
   "cell_type": "markdown",
   "metadata": {},
   "source": [
    "####  Northern Hemisphere - Max Temp vs. Latitude Linear Regression"
   ]
  },
  {
   "cell_type": "code",
   "execution_count": null,
   "metadata": {
    "ExecuteTime": {
     "end_time": "2020-10-11T18:27:42.675331Z",
     "start_time": "2020-10-11T18:27:18.679Z"
    }
   },
   "outputs": [],
   "source": [
    "north_hem.plot(kind = 'scatter',x = 'Lat',y = 'Max Temp')\n",
    "plt.show()"
   ]
  },
  {
   "cell_type": "markdown",
   "metadata": {},
   "source": [
    "####  Southern Hemisphere - Max Temp vs. Latitude Linear Regression"
   ]
  },
  {
   "cell_type": "code",
   "execution_count": null,
   "metadata": {
    "ExecuteTime": {
     "end_time": "2020-10-11T18:27:42.679333Z",
     "start_time": "2020-10-11T18:27:18.688Z"
    }
   },
   "outputs": [],
   "source": [
    "south_hem = clean_city_data.copy()\n",
    "south_hem = south_hem.loc[south_hem['Lng'] < 0]\n",
    "south_hem.plot(kind = 'scatter',x = 'Lat',y = 'Max Temp')\n",
    "plt.show()"
   ]
  },
  {
   "cell_type": "markdown",
   "metadata": {},
   "source": [
    "####  Northern Hemisphere - Humidity (%) vs. Latitude Linear Regression"
   ]
  },
  {
   "cell_type": "code",
   "execution_count": null,
   "metadata": {
    "ExecuteTime": {
     "end_time": "2020-10-11T18:27:42.682334Z",
     "start_time": "2020-10-11T18:27:18.698Z"
    }
   },
   "outputs": [],
   "source": [
    "north_hem.plot(kind = 'scatter',x = 'Lat',y = 'Humidity')\n",
    "plt.show()"
   ]
  },
  {
   "cell_type": "markdown",
   "metadata": {},
   "source": [
    "####  Southern Hemisphere - Humidity (%) vs. Latitude Linear Regression"
   ]
  },
  {
   "cell_type": "code",
   "execution_count": null,
   "metadata": {
    "ExecuteTime": {
     "end_time": "2020-10-11T18:27:42.686334Z",
     "start_time": "2020-10-11T18:27:18.708Z"
    }
   },
   "outputs": [],
   "source": [
    "south_hem.plot(kind = 'scatter',x = 'Lat',y = 'Humidity')\n",
    "plt.show()"
   ]
  },
  {
   "cell_type": "markdown",
   "metadata": {},
   "source": [
    "####  Northern Hemisphere - Cloudiness (%) vs. Latitude Linear Regression"
   ]
  },
  {
   "cell_type": "code",
   "execution_count": null,
   "metadata": {
    "ExecuteTime": {
     "end_time": "2020-10-11T18:27:42.690335Z",
     "start_time": "2020-10-11T18:27:18.719Z"
    }
   },
   "outputs": [],
   "source": [
    "north_hem.plot(kind = 'scatter',x = 'Lat',y = 'Cloudiness')\n",
    "plt.show()"
   ]
  },
  {
   "cell_type": "markdown",
   "metadata": {},
   "source": [
    "####  Southern Hemisphere - Cloudiness (%) vs. Latitude Linear Regression"
   ]
  },
  {
   "cell_type": "code",
   "execution_count": null,
   "metadata": {
    "ExecuteTime": {
     "end_time": "2020-10-11T18:27:42.693336Z",
     "start_time": "2020-10-11T18:27:18.727Z"
    }
   },
   "outputs": [],
   "source": [
    "south_hem.plot(kind = 'scatter',x = 'Lat',y = 'Cloudiness')\n",
    "plt.show()"
   ]
  },
  {
   "cell_type": "markdown",
   "metadata": {},
   "source": [
    "####  Northern Hemisphere - Wind Speed (mph) vs. Latitude Linear Regression"
   ]
  },
  {
   "cell_type": "code",
   "execution_count": null,
   "metadata": {
    "ExecuteTime": {
     "end_time": "2020-10-11T18:27:42.696340Z",
     "start_time": "2020-10-11T18:27:18.735Z"
    }
   },
   "outputs": [],
   "source": [
    "north_hem.plot(kind = 'scatter',x = 'Lat',y = 'Wind Speed')\n",
    "plt.show()"
   ]
  },
  {
   "cell_type": "markdown",
   "metadata": {},
   "source": [
    "####  Southern Hemisphere - Wind Speed (mph) vs. Latitude Linear Regression"
   ]
  },
  {
   "cell_type": "code",
   "execution_count": null,
   "metadata": {
    "ExecuteTime": {
     "end_time": "2020-10-11T18:27:42.699338Z",
     "start_time": "2020-10-11T18:27:18.748Z"
    }
   },
   "outputs": [],
   "source": [
    "south_hem.plot(kind = 'scatter',x = 'Lat',y = 'Wind Speed')\n",
    "plt.show()"
   ]
  }
 ],
 "metadata": {
  "anaconda-cloud": {},
  "kernel_info": {
   "name": "python3"
  },
  "kernelspec": {
   "display_name": "Python 3",
   "language": "python",
   "name": "python3"
  },
  "language_info": {
   "codemirror_mode": {
    "name": "ipython",
    "version": 3
   },
   "file_extension": ".py",
   "mimetype": "text/x-python",
   "name": "python",
   "nbconvert_exporter": "python",
   "pygments_lexer": "ipython3",
   "version": "3.8.3"
  },
  "latex_envs": {
   "LaTeX_envs_menu_present": true,
   "autoclose": false,
   "autocomplete": true,
   "bibliofile": "biblio.bib",
   "cite_by": "apalike",
   "current_citInitial": 1,
   "eqLabelWithNumbers": true,
   "eqNumInitial": 1,
   "hotkeys": {
    "equation": "Ctrl-E",
    "itemize": "Ctrl-I"
   },
   "labels_anchors": false,
   "latex_user_defs": false,
   "report_style_numbering": false,
   "user_envs_cfg": false
  },
  "nteract": {
   "version": "0.12.3"
  },
  "varInspector": {
   "cols": {
    "lenName": 16,
    "lenType": 16,
    "lenVar": 40
   },
   "kernels_config": {
    "python": {
     "delete_cmd_postfix": "",
     "delete_cmd_prefix": "del ",
     "library": "var_list.py",
     "varRefreshCmd": "print(var_dic_list())"
    },
    "r": {
     "delete_cmd_postfix": ") ",
     "delete_cmd_prefix": "rm(",
     "library": "var_list.r",
     "varRefreshCmd": "cat(var_dic_list()) "
    }
   },
   "types_to_exclude": [
    "module",
    "function",
    "builtin_function_or_method",
    "instance",
    "_Feature"
   ],
   "window_display": false
  }
 },
 "nbformat": 4,
 "nbformat_minor": 2
}
